{
  "nbformat": 4,
  "nbformat_minor": 0,
  "metadata": {
    "colab": {
      "provenance": [],
      "toc_visible": true
    },
    "kernelspec": {
      "name": "python3",
      "display_name": "Python 3"
    },
    "language_info": {
      "name": "python"
    }
  },
  "cells": [
    {
      "cell_type": "markdown",
      "source": [
        "# SETUP"
      ],
      "metadata": {
        "id": "eigiNAr5RGD8"
      }
    },
    {
      "cell_type": "code",
      "execution_count": null,
      "metadata": {
        "colab": {
          "base_uri": "https://localhost:8080/"
        },
        "id": "d11A__RgQklb",
        "outputId": "45a5affd-e6d3-4e1e-a2c7-4e0f742fdcc0"
      },
      "outputs": [
        {
          "output_type": "stream",
          "name": "stdout",
          "text": [
            "Drive already mounted at /content/drive; to attempt to forcibly remount, call drive.mount(\"/content/drive\", force_remount=True).\n"
          ]
        }
      ],
      "source": [
        "%load_ext autoreload\n",
        "%autoreload 2\n",
        "from google.colab import drive\n",
        "drive.mount('/content/drive')"
      ]
    },
    {
      "cell_type": "code",
      "source": [
        "import os\n",
        "import shutil\n",
        "import sys\n",
        "assert sys.version_info[0]==3\n",
        "assert sys.version_info[1] >= 5\n",
        "\n",
        "GOOGLE_DRIVE_PATH_AFTER_MYDRIVE = 'Ross Datathon Competition/data'\n",
        "GOOGLE_DRIVE_PATH = os.path.join('drive', 'MyDrive', GOOGLE_DRIVE_PATH_AFTER_MYDRIVE)\n",
        "sys.path.append(GOOGLE_DRIVE_PATH)\n",
        "\n",
        "print(os.listdir(GOOGLE_DRIVE_PATH))"
      ],
      "metadata": {
        "colab": {
          "base_uri": "https://localhost:8080/"
        },
        "id": "_DeD4KfLRLys",
        "outputId": "c71e22be-3e4e-4690-dc66-bf31ac2124a0"
      },
      "execution_count": null,
      "outputs": [
        {
          "output_type": "stream",
          "name": "stdout",
          "text": [
            "['1a. Airports.csv', '1b. Airlines.csv', '1c. Service_Class.csv', '2. US_Airlines_StockPrice_2016_2021.csv', '3. Crude_Oil_Price_2016_2021.csv', '4. Flight_Delay_2016_2021.csv', '4a. Metadata_Flight_Delay_2016_2021.csv', '5. Air_Traffic_2021.csv', '5a. Metadata_Air_Traffic_2021.csv', '6-1. WeatherEvents_2016.csv', '6-2. WeatherEvents_2017.csv', '6-3. WeatherEvents_2018.csv', '6-4. WeatherEvents_2019.csv', '6-5. WeatherEvents_2020.csv', '6-6. WeatherEvents_2021.csv', '7. Flight_Traffic_2017.csv', '8. Weather_Summary_2017.csv']\n"
          ]
        }
      ]
    },
    {
      "cell_type": "code",
      "source": [
        "!pip install brokenaxes"
      ],
      "metadata": {
        "colab": {
          "base_uri": "https://localhost:8080/"
        },
        "id": "1GLO_AX9Ggbv",
        "outputId": "01804460-17cd-4cd1-9be8-3f4559ad25a8"
      },
      "execution_count": null,
      "outputs": [
        {
          "output_type": "stream",
          "name": "stdout",
          "text": [
            "Looking in indexes: https://pypi.org/simple, https://us-python.pkg.dev/colab-wheels/public/simple/\n",
            "Requirement already satisfied: brokenaxes in /usr/local/lib/python3.8/dist-packages (0.5.0)\n",
            "Requirement already satisfied: matplotlib>3.4 in /usr/local/lib/python3.8/dist-packages (from brokenaxes) (3.6.3)\n",
            "Requirement already satisfied: numpy>=1.19 in /usr/local/lib/python3.8/dist-packages (from matplotlib>3.4->brokenaxes) (1.21.6)\n",
            "Requirement already satisfied: contourpy>=1.0.1 in /usr/local/lib/python3.8/dist-packages (from matplotlib>3.4->brokenaxes) (1.0.7)\n",
            "Requirement already satisfied: pillow>=6.2.0 in /usr/local/lib/python3.8/dist-packages (from matplotlib>3.4->brokenaxes) (7.1.2)\n",
            "Requirement already satisfied: packaging>=20.0 in /usr/local/lib/python3.8/dist-packages (from matplotlib>3.4->brokenaxes) (23.0)\n",
            "Requirement already satisfied: pyparsing>=2.2.1 in /usr/local/lib/python3.8/dist-packages (from matplotlib>3.4->brokenaxes) (3.0.9)\n",
            "Requirement already satisfied: python-dateutil>=2.7 in /usr/local/lib/python3.8/dist-packages (from matplotlib>3.4->brokenaxes) (2.8.2)\n",
            "Requirement already satisfied: fonttools>=4.22.0 in /usr/local/lib/python3.8/dist-packages (from matplotlib>3.4->brokenaxes) (4.38.0)\n",
            "Requirement already satisfied: cycler>=0.10 in /usr/local/lib/python3.8/dist-packages (from matplotlib>3.4->brokenaxes) (0.11.0)\n",
            "Requirement already satisfied: kiwisolver>=1.0.1 in /usr/local/lib/python3.8/dist-packages (from matplotlib>3.4->brokenaxes) (1.4.4)\n",
            "Requirement already satisfied: six>=1.5 in /usr/local/lib/python3.8/dist-packages (from python-dateutil>=2.7->matplotlib>3.4->brokenaxes) (1.15.0)\n"
          ]
        }
      ]
    },
    {
      "cell_type": "code",
      "source": [
        "import numpy as np \n",
        "import pandas as pd \n",
        "\n",
        "import os\n",
        "import bz2\n",
        "import pandas as pd\n",
        "import re \n",
        "import numpy as np\n",
        "from sklearn.model_selection import train_test_split\n",
        "from bs4 import BeautifulSoup\n",
        "from textblob import TextBlob\n",
        "import string\n",
        "import time\n",
        "import matplotlib.pyplot as plt\n",
        "import seaborn as sns\n",
        "from brokenaxes import brokenaxes"
      ],
      "metadata": {
        "id": "Khr22RrnRd0_"
      },
      "execution_count": null,
      "outputs": []
    },
    {
      "cell_type": "markdown",
      "source": [
        "# Load Data"
      ],
      "metadata": {
        "id": "FPoavMPcRkLP"
      }
    },
    {
      "cell_type": "code",
      "source": [
        "stock_price_2016_2021 = pd.read_csv(GOOGLE_DRIVE_PATH + '/2. US_Airlines_StockPrice_2016_2021.csv')\n",
        "oil_price_2016_2021 = pd.read_csv(GOOGLE_DRIVE_PATH + '/3. Crude_Oil_Price_2016_2021.csv')\n",
        "flight_delay_2016_2021 = pd.read_csv(GOOGLE_DRIVE_PATH + '/4. Flight_Delay_2016_2021.csv')\n",
        "air_traffic_2021 = pd.read_csv(GOOGLE_DRIVE_PATH + '/5. Air_Traffic_2021.csv')\n",
        "flight_traffic_2017 = pd.read_csv(GOOGLE_DRIVE_PATH + '/7. Flight_Traffic_2017.csv')\n",
        "weather_summary_2017 = pd.read_csv(GOOGLE_DRIVE_PATH + '/8. Weather_Summary_2017.csv')\n"
      ],
      "metadata": {
        "id": "YXYZ2i6xRlZC"
      },
      "execution_count": null,
      "outputs": []
    },
    {
      "cell_type": "code",
      "source": [
        "stock_price_2016_2021.head()"
      ],
      "metadata": {
        "colab": {
          "base_uri": "https://localhost:8080/",
          "height": 206
        },
        "id": "wWWzqwe3Rzh-",
        "outputId": "cee3105b-d7f2-4e23-fea6-90a654124778"
      },
      "execution_count": null,
      "outputs": [
        {
          "output_type": "execute_result",
          "data": {
            "text/plain": [
              "  Airline      Date       Open       High        Low      Close  Adj Close  \\\n",
              "0     AAL  1/4/2016  41.290001  41.349998  40.299999  40.910000  39.095459   \n",
              "1     AAL  1/5/2016  41.180000  41.490002  39.950001  40.520000  38.722759   \n",
              "2     AAL  1/6/2016  40.049999  41.700001  40.000000  41.230000  39.401264   \n",
              "3     AAL  1/7/2016  40.970001  41.520000  39.680000  40.450001  38.655865   \n",
              "4     AAL  1/8/2016  40.939999  41.360001  40.259998  40.369999  38.579414   \n",
              "\n",
              "     Volume  \n",
              "0  12037200  \n",
              "1  10514200  \n",
              "2  12393800  \n",
              "3  11312900  \n",
              "4   8853100  "
            ],
            "text/html": [
              "\n",
              "  <div id=\"df-3c06dad8-681f-40dc-b22f-544bc8588d0f\">\n",
              "    <div class=\"colab-df-container\">\n",
              "      <div>\n",
              "<style scoped>\n",
              "    .dataframe tbody tr th:only-of-type {\n",
              "        vertical-align: middle;\n",
              "    }\n",
              "\n",
              "    .dataframe tbody tr th {\n",
              "        vertical-align: top;\n",
              "    }\n",
              "\n",
              "    .dataframe thead th {\n",
              "        text-align: right;\n",
              "    }\n",
              "</style>\n",
              "<table border=\"1\" class=\"dataframe\">\n",
              "  <thead>\n",
              "    <tr style=\"text-align: right;\">\n",
              "      <th></th>\n",
              "      <th>Airline</th>\n",
              "      <th>Date</th>\n",
              "      <th>Open</th>\n",
              "      <th>High</th>\n",
              "      <th>Low</th>\n",
              "      <th>Close</th>\n",
              "      <th>Adj Close</th>\n",
              "      <th>Volume</th>\n",
              "    </tr>\n",
              "  </thead>\n",
              "  <tbody>\n",
              "    <tr>\n",
              "      <th>0</th>\n",
              "      <td>AAL</td>\n",
              "      <td>1/4/2016</td>\n",
              "      <td>41.290001</td>\n",
              "      <td>41.349998</td>\n",
              "      <td>40.299999</td>\n",
              "      <td>40.910000</td>\n",
              "      <td>39.095459</td>\n",
              "      <td>12037200</td>\n",
              "    </tr>\n",
              "    <tr>\n",
              "      <th>1</th>\n",
              "      <td>AAL</td>\n",
              "      <td>1/5/2016</td>\n",
              "      <td>41.180000</td>\n",
              "      <td>41.490002</td>\n",
              "      <td>39.950001</td>\n",
              "      <td>40.520000</td>\n",
              "      <td>38.722759</td>\n",
              "      <td>10514200</td>\n",
              "    </tr>\n",
              "    <tr>\n",
              "      <th>2</th>\n",
              "      <td>AAL</td>\n",
              "      <td>1/6/2016</td>\n",
              "      <td>40.049999</td>\n",
              "      <td>41.700001</td>\n",
              "      <td>40.000000</td>\n",
              "      <td>41.230000</td>\n",
              "      <td>39.401264</td>\n",
              "      <td>12393800</td>\n",
              "    </tr>\n",
              "    <tr>\n",
              "      <th>3</th>\n",
              "      <td>AAL</td>\n",
              "      <td>1/7/2016</td>\n",
              "      <td>40.970001</td>\n",
              "      <td>41.520000</td>\n",
              "      <td>39.680000</td>\n",
              "      <td>40.450001</td>\n",
              "      <td>38.655865</td>\n",
              "      <td>11312900</td>\n",
              "    </tr>\n",
              "    <tr>\n",
              "      <th>4</th>\n",
              "      <td>AAL</td>\n",
              "      <td>1/8/2016</td>\n",
              "      <td>40.939999</td>\n",
              "      <td>41.360001</td>\n",
              "      <td>40.259998</td>\n",
              "      <td>40.369999</td>\n",
              "      <td>38.579414</td>\n",
              "      <td>8853100</td>\n",
              "    </tr>\n",
              "  </tbody>\n",
              "</table>\n",
              "</div>\n",
              "      <button class=\"colab-df-convert\" onclick=\"convertToInteractive('df-3c06dad8-681f-40dc-b22f-544bc8588d0f')\"\n",
              "              title=\"Convert this dataframe to an interactive table.\"\n",
              "              style=\"display:none;\">\n",
              "        \n",
              "  <svg xmlns=\"http://www.w3.org/2000/svg\" height=\"24px\"viewBox=\"0 0 24 24\"\n",
              "       width=\"24px\">\n",
              "    <path d=\"M0 0h24v24H0V0z\" fill=\"none\"/>\n",
              "    <path d=\"M18.56 5.44l.94 2.06.94-2.06 2.06-.94-2.06-.94-.94-2.06-.94 2.06-2.06.94zm-11 1L8.5 8.5l.94-2.06 2.06-.94-2.06-.94L8.5 2.5l-.94 2.06-2.06.94zm10 10l.94 2.06.94-2.06 2.06-.94-2.06-.94-.94-2.06-.94 2.06-2.06.94z\"/><path d=\"M17.41 7.96l-1.37-1.37c-.4-.4-.92-.59-1.43-.59-.52 0-1.04.2-1.43.59L10.3 9.45l-7.72 7.72c-.78.78-.78 2.05 0 2.83L4 21.41c.39.39.9.59 1.41.59.51 0 1.02-.2 1.41-.59l7.78-7.78 2.81-2.81c.8-.78.8-2.07 0-2.86zM5.41 20L4 18.59l7.72-7.72 1.47 1.35L5.41 20z\"/>\n",
              "  </svg>\n",
              "      </button>\n",
              "      \n",
              "  <style>\n",
              "    .colab-df-container {\n",
              "      display:flex;\n",
              "      flex-wrap:wrap;\n",
              "      gap: 12px;\n",
              "    }\n",
              "\n",
              "    .colab-df-convert {\n",
              "      background-color: #E8F0FE;\n",
              "      border: none;\n",
              "      border-radius: 50%;\n",
              "      cursor: pointer;\n",
              "      display: none;\n",
              "      fill: #1967D2;\n",
              "      height: 32px;\n",
              "      padding: 0 0 0 0;\n",
              "      width: 32px;\n",
              "    }\n",
              "\n",
              "    .colab-df-convert:hover {\n",
              "      background-color: #E2EBFA;\n",
              "      box-shadow: 0px 1px 2px rgba(60, 64, 67, 0.3), 0px 1px 3px 1px rgba(60, 64, 67, 0.15);\n",
              "      fill: #174EA6;\n",
              "    }\n",
              "\n",
              "    [theme=dark] .colab-df-convert {\n",
              "      background-color: #3B4455;\n",
              "      fill: #D2E3FC;\n",
              "    }\n",
              "\n",
              "    [theme=dark] .colab-df-convert:hover {\n",
              "      background-color: #434B5C;\n",
              "      box-shadow: 0px 1px 3px 1px rgba(0, 0, 0, 0.15);\n",
              "      filter: drop-shadow(0px 1px 2px rgba(0, 0, 0, 0.3));\n",
              "      fill: #FFFFFF;\n",
              "    }\n",
              "  </style>\n",
              "\n",
              "      <script>\n",
              "        const buttonEl =\n",
              "          document.querySelector('#df-3c06dad8-681f-40dc-b22f-544bc8588d0f button.colab-df-convert');\n",
              "        buttonEl.style.display =\n",
              "          google.colab.kernel.accessAllowed ? 'block' : 'none';\n",
              "\n",
              "        async function convertToInteractive(key) {\n",
              "          const element = document.querySelector('#df-3c06dad8-681f-40dc-b22f-544bc8588d0f');\n",
              "          const dataTable =\n",
              "            await google.colab.kernel.invokeFunction('convertToInteractive',\n",
              "                                                     [key], {});\n",
              "          if (!dataTable) return;\n",
              "\n",
              "          const docLinkHtml = 'Like what you see? Visit the ' +\n",
              "            '<a target=\"_blank\" href=https://colab.research.google.com/notebooks/data_table.ipynb>data table notebook</a>'\n",
              "            + ' to learn more about interactive tables.';\n",
              "          element.innerHTML = '';\n",
              "          dataTable['output_type'] = 'display_data';\n",
              "          await google.colab.output.renderOutput(dataTable, element);\n",
              "          const docLink = document.createElement('div');\n",
              "          docLink.innerHTML = docLinkHtml;\n",
              "          element.appendChild(docLink);\n",
              "        }\n",
              "      </script>\n",
              "    </div>\n",
              "  </div>\n",
              "  "
            ]
          },
          "metadata": {},
          "execution_count": 5
        }
      ]
    },
    {
      "cell_type": "code",
      "source": [
        "oil_price_2016_2021.head()"
      ],
      "metadata": {
        "colab": {
          "base_uri": "https://localhost:8080/",
          "height": 206
        },
        "id": "VCqT94kgSWfz",
        "outputId": "b265805a-e5f4-4ba9-c59d-b28d13a7cbda"
      },
      "execution_count": null,
      "outputs": [
        {
          "output_type": "execute_result",
          "data": {
            "text/plain": [
              "        Date   Open   High    Low Close* Adj Close**  Volume\n",
              "0  30-Dec-21  79.25  79.62  78.66  79.32       79.32     476\n",
              "1  29-Dec-21     79  80.16  78.14  79.23       79.23   7,057\n",
              "2  28-Dec-21  78.87  79.85  78.47  78.94       78.94   8,523\n",
              "3  27-Dec-21   76.3  79.06  75.76   78.6        78.6  15,723\n",
              "4  23-Dec-21  75.67  76.98  74.79  76.85       76.85  27,624"
            ],
            "text/html": [
              "\n",
              "  <div id=\"df-c96945e4-495e-4996-ab17-e1656d9d1a29\">\n",
              "    <div class=\"colab-df-container\">\n",
              "      <div>\n",
              "<style scoped>\n",
              "    .dataframe tbody tr th:only-of-type {\n",
              "        vertical-align: middle;\n",
              "    }\n",
              "\n",
              "    .dataframe tbody tr th {\n",
              "        vertical-align: top;\n",
              "    }\n",
              "\n",
              "    .dataframe thead th {\n",
              "        text-align: right;\n",
              "    }\n",
              "</style>\n",
              "<table border=\"1\" class=\"dataframe\">\n",
              "  <thead>\n",
              "    <tr style=\"text-align: right;\">\n",
              "      <th></th>\n",
              "      <th>Date</th>\n",
              "      <th>Open</th>\n",
              "      <th>High</th>\n",
              "      <th>Low</th>\n",
              "      <th>Close*</th>\n",
              "      <th>Adj Close**</th>\n",
              "      <th>Volume</th>\n",
              "    </tr>\n",
              "  </thead>\n",
              "  <tbody>\n",
              "    <tr>\n",
              "      <th>0</th>\n",
              "      <td>30-Dec-21</td>\n",
              "      <td>79.25</td>\n",
              "      <td>79.62</td>\n",
              "      <td>78.66</td>\n",
              "      <td>79.32</td>\n",
              "      <td>79.32</td>\n",
              "      <td>476</td>\n",
              "    </tr>\n",
              "    <tr>\n",
              "      <th>1</th>\n",
              "      <td>29-Dec-21</td>\n",
              "      <td>79</td>\n",
              "      <td>80.16</td>\n",
              "      <td>78.14</td>\n",
              "      <td>79.23</td>\n",
              "      <td>79.23</td>\n",
              "      <td>7,057</td>\n",
              "    </tr>\n",
              "    <tr>\n",
              "      <th>2</th>\n",
              "      <td>28-Dec-21</td>\n",
              "      <td>78.87</td>\n",
              "      <td>79.85</td>\n",
              "      <td>78.47</td>\n",
              "      <td>78.94</td>\n",
              "      <td>78.94</td>\n",
              "      <td>8,523</td>\n",
              "    </tr>\n",
              "    <tr>\n",
              "      <th>3</th>\n",
              "      <td>27-Dec-21</td>\n",
              "      <td>76.3</td>\n",
              "      <td>79.06</td>\n",
              "      <td>75.76</td>\n",
              "      <td>78.6</td>\n",
              "      <td>78.6</td>\n",
              "      <td>15,723</td>\n",
              "    </tr>\n",
              "    <tr>\n",
              "      <th>4</th>\n",
              "      <td>23-Dec-21</td>\n",
              "      <td>75.67</td>\n",
              "      <td>76.98</td>\n",
              "      <td>74.79</td>\n",
              "      <td>76.85</td>\n",
              "      <td>76.85</td>\n",
              "      <td>27,624</td>\n",
              "    </tr>\n",
              "  </tbody>\n",
              "</table>\n",
              "</div>\n",
              "      <button class=\"colab-df-convert\" onclick=\"convertToInteractive('df-c96945e4-495e-4996-ab17-e1656d9d1a29')\"\n",
              "              title=\"Convert this dataframe to an interactive table.\"\n",
              "              style=\"display:none;\">\n",
              "        \n",
              "  <svg xmlns=\"http://www.w3.org/2000/svg\" height=\"24px\"viewBox=\"0 0 24 24\"\n",
              "       width=\"24px\">\n",
              "    <path d=\"M0 0h24v24H0V0z\" fill=\"none\"/>\n",
              "    <path d=\"M18.56 5.44l.94 2.06.94-2.06 2.06-.94-2.06-.94-.94-2.06-.94 2.06-2.06.94zm-11 1L8.5 8.5l.94-2.06 2.06-.94-2.06-.94L8.5 2.5l-.94 2.06-2.06.94zm10 10l.94 2.06.94-2.06 2.06-.94-2.06-.94-.94-2.06-.94 2.06-2.06.94z\"/><path d=\"M17.41 7.96l-1.37-1.37c-.4-.4-.92-.59-1.43-.59-.52 0-1.04.2-1.43.59L10.3 9.45l-7.72 7.72c-.78.78-.78 2.05 0 2.83L4 21.41c.39.39.9.59 1.41.59.51 0 1.02-.2 1.41-.59l7.78-7.78 2.81-2.81c.8-.78.8-2.07 0-2.86zM5.41 20L4 18.59l7.72-7.72 1.47 1.35L5.41 20z\"/>\n",
              "  </svg>\n",
              "      </button>\n",
              "      \n",
              "  <style>\n",
              "    .colab-df-container {\n",
              "      display:flex;\n",
              "      flex-wrap:wrap;\n",
              "      gap: 12px;\n",
              "    }\n",
              "\n",
              "    .colab-df-convert {\n",
              "      background-color: #E8F0FE;\n",
              "      border: none;\n",
              "      border-radius: 50%;\n",
              "      cursor: pointer;\n",
              "      display: none;\n",
              "      fill: #1967D2;\n",
              "      height: 32px;\n",
              "      padding: 0 0 0 0;\n",
              "      width: 32px;\n",
              "    }\n",
              "\n",
              "    .colab-df-convert:hover {\n",
              "      background-color: #E2EBFA;\n",
              "      box-shadow: 0px 1px 2px rgba(60, 64, 67, 0.3), 0px 1px 3px 1px rgba(60, 64, 67, 0.15);\n",
              "      fill: #174EA6;\n",
              "    }\n",
              "\n",
              "    [theme=dark] .colab-df-convert {\n",
              "      background-color: #3B4455;\n",
              "      fill: #D2E3FC;\n",
              "    }\n",
              "\n",
              "    [theme=dark] .colab-df-convert:hover {\n",
              "      background-color: #434B5C;\n",
              "      box-shadow: 0px 1px 3px 1px rgba(0, 0, 0, 0.15);\n",
              "      filter: drop-shadow(0px 1px 2px rgba(0, 0, 0, 0.3));\n",
              "      fill: #FFFFFF;\n",
              "    }\n",
              "  </style>\n",
              "\n",
              "      <script>\n",
              "        const buttonEl =\n",
              "          document.querySelector('#df-c96945e4-495e-4996-ab17-e1656d9d1a29 button.colab-df-convert');\n",
              "        buttonEl.style.display =\n",
              "          google.colab.kernel.accessAllowed ? 'block' : 'none';\n",
              "\n",
              "        async function convertToInteractive(key) {\n",
              "          const element = document.querySelector('#df-c96945e4-495e-4996-ab17-e1656d9d1a29');\n",
              "          const dataTable =\n",
              "            await google.colab.kernel.invokeFunction('convertToInteractive',\n",
              "                                                     [key], {});\n",
              "          if (!dataTable) return;\n",
              "\n",
              "          const docLinkHtml = 'Like what you see? Visit the ' +\n",
              "            '<a target=\"_blank\" href=https://colab.research.google.com/notebooks/data_table.ipynb>data table notebook</a>'\n",
              "            + ' to learn more about interactive tables.';\n",
              "          element.innerHTML = '';\n",
              "          dataTable['output_type'] = 'display_data';\n",
              "          await google.colab.output.renderOutput(dataTable, element);\n",
              "          const docLink = document.createElement('div');\n",
              "          docLink.innerHTML = docLinkHtml;\n",
              "          element.appendChild(docLink);\n",
              "        }\n",
              "      </script>\n",
              "    </div>\n",
              "  </div>\n",
              "  "
            ]
          },
          "metadata": {},
          "execution_count": 6
        }
      ]
    },
    {
      "cell_type": "code",
      "source": [
        "flight_delay_2016_2021.head(3).T"
      ],
      "metadata": {
        "colab": {
          "base_uri": "https://localhost:8080/",
          "height": 769
        },
        "id": "WGolOZaWTdsN",
        "outputId": "cd4cea8a-6b4b-4b36-c0fc-14533b75d25c"
      },
      "execution_count": null,
      "outputs": [
        {
          "output_type": "execute_result",
          "data": {
            "text/plain": [
              "                                                                     0  \\\n",
              "year                                                              2021   \n",
              "month                                                               12   \n",
              "carrier                                                             9E   \n",
              "carrier_name                                         Endeavor Air Inc.   \n",
              "airport                                                            ABE   \n",
              "airport_name         Allentown/Bethlehem/Easton, PA: Lehigh Valley ...   \n",
              "arr_flights                                                      127.0   \n",
              "arr_del15                                                          9.0   \n",
              "carrier_ct                                                        2.51   \n",
              "weather_ct                                                         0.0   \n",
              "nas_ct                                                            3.54   \n",
              "security_ct                                                        0.0   \n",
              "late_aircraft_ct                                                  2.95   \n",
              "arr_cancelled                                                      0.0   \n",
              "arr_diverted                                                       0.0   \n",
              "arr_delay                                                        264.0   \n",
              "carrier_delay                                                    119.0   \n",
              "weather_delay                                                      0.0   \n",
              "nas_delay                                                         68.0   \n",
              "security_delay                                                     0.0   \n",
              "late_aircraft_delay                                               77.0   \n",
              "\n",
              "                                                          1  \\\n",
              "year                                                   2021   \n",
              "month                                                    12   \n",
              "carrier                                                  9E   \n",
              "carrier_name                              Endeavor Air Inc.   \n",
              "airport                                                 ABY   \n",
              "airport_name         Albany, GA: Southwest Georgia Regional   \n",
              "arr_flights                                            73.0   \n",
              "arr_del15                                              11.0   \n",
              "carrier_ct                                             5.02   \n",
              "weather_ct                                              0.0   \n",
              "nas_ct                                                 4.11   \n",
              "security_ct                                             0.0   \n",
              "late_aircraft_ct                                       1.87   \n",
              "arr_cancelled                                           0.0   \n",
              "arr_diverted                                            0.0   \n",
              "arr_delay                                             342.0   \n",
              "carrier_delay                                         125.0   \n",
              "weather_delay                                           0.0   \n",
              "nas_delay                                             142.0   \n",
              "security_delay                                          0.0   \n",
              "late_aircraft_delay                                    75.0   \n",
              "\n",
              "                                                            2  \n",
              "year                                                     2021  \n",
              "month                                                      12  \n",
              "carrier                                                    9E  \n",
              "carrier_name                                Endeavor Air Inc.  \n",
              "airport                                                   AEX  \n",
              "airport_name         Alexandria, LA: Alexandria International  \n",
              "arr_flights                                              62.0  \n",
              "arr_del15                                                 8.0  \n",
              "carrier_ct                                               2.63  \n",
              "weather_ct                                                0.0  \n",
              "nas_ct                                                   4.22  \n",
              "security_ct                                               0.0  \n",
              "late_aircraft_ct                                         1.15  \n",
              "arr_cancelled                                             0.0  \n",
              "arr_diverted                                              0.0  \n",
              "arr_delay                                               439.0  \n",
              "carrier_delay                                           156.0  \n",
              "weather_delay                                             0.0  \n",
              "nas_delay                                               103.0  \n",
              "security_delay                                            0.0  \n",
              "late_aircraft_delay                                     180.0  "
            ],
            "text/html": [
              "\n",
              "  <div id=\"df-b9227e6d-c499-4a46-81e6-f6ba121c1518\">\n",
              "    <div class=\"colab-df-container\">\n",
              "      <div>\n",
              "<style scoped>\n",
              "    .dataframe tbody tr th:only-of-type {\n",
              "        vertical-align: middle;\n",
              "    }\n",
              "\n",
              "    .dataframe tbody tr th {\n",
              "        vertical-align: top;\n",
              "    }\n",
              "\n",
              "    .dataframe thead th {\n",
              "        text-align: right;\n",
              "    }\n",
              "</style>\n",
              "<table border=\"1\" class=\"dataframe\">\n",
              "  <thead>\n",
              "    <tr style=\"text-align: right;\">\n",
              "      <th></th>\n",
              "      <th>0</th>\n",
              "      <th>1</th>\n",
              "      <th>2</th>\n",
              "    </tr>\n",
              "  </thead>\n",
              "  <tbody>\n",
              "    <tr>\n",
              "      <th>year</th>\n",
              "      <td>2021</td>\n",
              "      <td>2021</td>\n",
              "      <td>2021</td>\n",
              "    </tr>\n",
              "    <tr>\n",
              "      <th>month</th>\n",
              "      <td>12</td>\n",
              "      <td>12</td>\n",
              "      <td>12</td>\n",
              "    </tr>\n",
              "    <tr>\n",
              "      <th>carrier</th>\n",
              "      <td>9E</td>\n",
              "      <td>9E</td>\n",
              "      <td>9E</td>\n",
              "    </tr>\n",
              "    <tr>\n",
              "      <th>carrier_name</th>\n",
              "      <td>Endeavor Air Inc.</td>\n",
              "      <td>Endeavor Air Inc.</td>\n",
              "      <td>Endeavor Air Inc.</td>\n",
              "    </tr>\n",
              "    <tr>\n",
              "      <th>airport</th>\n",
              "      <td>ABE</td>\n",
              "      <td>ABY</td>\n",
              "      <td>AEX</td>\n",
              "    </tr>\n",
              "    <tr>\n",
              "      <th>airport_name</th>\n",
              "      <td>Allentown/Bethlehem/Easton, PA: Lehigh Valley ...</td>\n",
              "      <td>Albany, GA: Southwest Georgia Regional</td>\n",
              "      <td>Alexandria, LA: Alexandria International</td>\n",
              "    </tr>\n",
              "    <tr>\n",
              "      <th>arr_flights</th>\n",
              "      <td>127.0</td>\n",
              "      <td>73.0</td>\n",
              "      <td>62.0</td>\n",
              "    </tr>\n",
              "    <tr>\n",
              "      <th>arr_del15</th>\n",
              "      <td>9.0</td>\n",
              "      <td>11.0</td>\n",
              "      <td>8.0</td>\n",
              "    </tr>\n",
              "    <tr>\n",
              "      <th>carrier_ct</th>\n",
              "      <td>2.51</td>\n",
              "      <td>5.02</td>\n",
              "      <td>2.63</td>\n",
              "    </tr>\n",
              "    <tr>\n",
              "      <th>weather_ct</th>\n",
              "      <td>0.0</td>\n",
              "      <td>0.0</td>\n",
              "      <td>0.0</td>\n",
              "    </tr>\n",
              "    <tr>\n",
              "      <th>nas_ct</th>\n",
              "      <td>3.54</td>\n",
              "      <td>4.11</td>\n",
              "      <td>4.22</td>\n",
              "    </tr>\n",
              "    <tr>\n",
              "      <th>security_ct</th>\n",
              "      <td>0.0</td>\n",
              "      <td>0.0</td>\n",
              "      <td>0.0</td>\n",
              "    </tr>\n",
              "    <tr>\n",
              "      <th>late_aircraft_ct</th>\n",
              "      <td>2.95</td>\n",
              "      <td>1.87</td>\n",
              "      <td>1.15</td>\n",
              "    </tr>\n",
              "    <tr>\n",
              "      <th>arr_cancelled</th>\n",
              "      <td>0.0</td>\n",
              "      <td>0.0</td>\n",
              "      <td>0.0</td>\n",
              "    </tr>\n",
              "    <tr>\n",
              "      <th>arr_diverted</th>\n",
              "      <td>0.0</td>\n",
              "      <td>0.0</td>\n",
              "      <td>0.0</td>\n",
              "    </tr>\n",
              "    <tr>\n",
              "      <th>arr_delay</th>\n",
              "      <td>264.0</td>\n",
              "      <td>342.0</td>\n",
              "      <td>439.0</td>\n",
              "    </tr>\n",
              "    <tr>\n",
              "      <th>carrier_delay</th>\n",
              "      <td>119.0</td>\n",
              "      <td>125.0</td>\n",
              "      <td>156.0</td>\n",
              "    </tr>\n",
              "    <tr>\n",
              "      <th>weather_delay</th>\n",
              "      <td>0.0</td>\n",
              "      <td>0.0</td>\n",
              "      <td>0.0</td>\n",
              "    </tr>\n",
              "    <tr>\n",
              "      <th>nas_delay</th>\n",
              "      <td>68.0</td>\n",
              "      <td>142.0</td>\n",
              "      <td>103.0</td>\n",
              "    </tr>\n",
              "    <tr>\n",
              "      <th>security_delay</th>\n",
              "      <td>0.0</td>\n",
              "      <td>0.0</td>\n",
              "      <td>0.0</td>\n",
              "    </tr>\n",
              "    <tr>\n",
              "      <th>late_aircraft_delay</th>\n",
              "      <td>77.0</td>\n",
              "      <td>75.0</td>\n",
              "      <td>180.0</td>\n",
              "    </tr>\n",
              "  </tbody>\n",
              "</table>\n",
              "</div>\n",
              "      <button class=\"colab-df-convert\" onclick=\"convertToInteractive('df-b9227e6d-c499-4a46-81e6-f6ba121c1518')\"\n",
              "              title=\"Convert this dataframe to an interactive table.\"\n",
              "              style=\"display:none;\">\n",
              "        \n",
              "  <svg xmlns=\"http://www.w3.org/2000/svg\" height=\"24px\"viewBox=\"0 0 24 24\"\n",
              "       width=\"24px\">\n",
              "    <path d=\"M0 0h24v24H0V0z\" fill=\"none\"/>\n",
              "    <path d=\"M18.56 5.44l.94 2.06.94-2.06 2.06-.94-2.06-.94-.94-2.06-.94 2.06-2.06.94zm-11 1L8.5 8.5l.94-2.06 2.06-.94-2.06-.94L8.5 2.5l-.94 2.06-2.06.94zm10 10l.94 2.06.94-2.06 2.06-.94-2.06-.94-.94-2.06-.94 2.06-2.06.94z\"/><path d=\"M17.41 7.96l-1.37-1.37c-.4-.4-.92-.59-1.43-.59-.52 0-1.04.2-1.43.59L10.3 9.45l-7.72 7.72c-.78.78-.78 2.05 0 2.83L4 21.41c.39.39.9.59 1.41.59.51 0 1.02-.2 1.41-.59l7.78-7.78 2.81-2.81c.8-.78.8-2.07 0-2.86zM5.41 20L4 18.59l7.72-7.72 1.47 1.35L5.41 20z\"/>\n",
              "  </svg>\n",
              "      </button>\n",
              "      \n",
              "  <style>\n",
              "    .colab-df-container {\n",
              "      display:flex;\n",
              "      flex-wrap:wrap;\n",
              "      gap: 12px;\n",
              "    }\n",
              "\n",
              "    .colab-df-convert {\n",
              "      background-color: #E8F0FE;\n",
              "      border: none;\n",
              "      border-radius: 50%;\n",
              "      cursor: pointer;\n",
              "      display: none;\n",
              "      fill: #1967D2;\n",
              "      height: 32px;\n",
              "      padding: 0 0 0 0;\n",
              "      width: 32px;\n",
              "    }\n",
              "\n",
              "    .colab-df-convert:hover {\n",
              "      background-color: #E2EBFA;\n",
              "      box-shadow: 0px 1px 2px rgba(60, 64, 67, 0.3), 0px 1px 3px 1px rgba(60, 64, 67, 0.15);\n",
              "      fill: #174EA6;\n",
              "    }\n",
              "\n",
              "    [theme=dark] .colab-df-convert {\n",
              "      background-color: #3B4455;\n",
              "      fill: #D2E3FC;\n",
              "    }\n",
              "\n",
              "    [theme=dark] .colab-df-convert:hover {\n",
              "      background-color: #434B5C;\n",
              "      box-shadow: 0px 1px 3px 1px rgba(0, 0, 0, 0.15);\n",
              "      filter: drop-shadow(0px 1px 2px rgba(0, 0, 0, 0.3));\n",
              "      fill: #FFFFFF;\n",
              "    }\n",
              "  </style>\n",
              "\n",
              "      <script>\n",
              "        const buttonEl =\n",
              "          document.querySelector('#df-b9227e6d-c499-4a46-81e6-f6ba121c1518 button.colab-df-convert');\n",
              "        buttonEl.style.display =\n",
              "          google.colab.kernel.accessAllowed ? 'block' : 'none';\n",
              "\n",
              "        async function convertToInteractive(key) {\n",
              "          const element = document.querySelector('#df-b9227e6d-c499-4a46-81e6-f6ba121c1518');\n",
              "          const dataTable =\n",
              "            await google.colab.kernel.invokeFunction('convertToInteractive',\n",
              "                                                     [key], {});\n",
              "          if (!dataTable) return;\n",
              "\n",
              "          const docLinkHtml = 'Like what you see? Visit the ' +\n",
              "            '<a target=\"_blank\" href=https://colab.research.google.com/notebooks/data_table.ipynb>data table notebook</a>'\n",
              "            + ' to learn more about interactive tables.';\n",
              "          element.innerHTML = '';\n",
              "          dataTable['output_type'] = 'display_data';\n",
              "          await google.colab.output.renderOutput(dataTable, element);\n",
              "          const docLink = document.createElement('div');\n",
              "          docLink.innerHTML = docLinkHtml;\n",
              "          element.appendChild(docLink);\n",
              "        }\n",
              "      </script>\n",
              "    </div>\n",
              "  </div>\n",
              "  "
            ]
          },
          "metadata": {},
          "execution_count": 7
        }
      ]
    },
    {
      "cell_type": "code",
      "source": [
        "air_traffic_2021.head(3).T"
      ],
      "metadata": {
        "colab": {
          "base_uri": "https://localhost:8080/",
          "height": 582
        },
        "id": "vRKbs0kfTp-0",
        "outputId": "49dd60ff-b4c0-444e-e033-edb1f927c49f"
      },
      "execution_count": null,
      "outputs": [
        {
          "output_type": "execute_result",
          "data": {
            "text/plain": [
              "                               0               1               2\n",
              "PASSENGERS                     0               0               0\n",
              "FREIGHT                    74974         1727598           75281\n",
              "MAIL                           0               0               0\n",
              "DISTANCE                     948             569            1319\n",
              "UNIQUE_CARRIER               KAQ             KAQ             KAQ\n",
              "ORIGIN                       CVG             CVG             CVG\n",
              "ORIGIN_CITY_NAME  Cincinnati, OH  Cincinnati, OH  Cincinnati, OH\n",
              "ORIGIN_STATE_ABR              KY              KY              KY\n",
              "ORIGIN_STATE_NM         Kentucky        Kentucky        Kentucky\n",
              "DEST                         MIA             EWR             ELP\n",
              "DEST_CITY_NAME         Miami, FL      Newark, NJ     El Paso, TX\n",
              "DEST_STATE_ABR                FL              NJ              TX\n",
              "DEST_STATE_NM            Florida      New Jersey           Texas\n",
              "YEAR                        2021            2021            2021\n",
              "QUARTER                        1               1               1\n",
              "MONTH                          1               1               1\n",
              "CLASS                          P               P               P"
            ],
            "text/html": [
              "\n",
              "  <div id=\"df-bdeb7ba5-504c-43d5-8c2d-18917fd83e91\">\n",
              "    <div class=\"colab-df-container\">\n",
              "      <div>\n",
              "<style scoped>\n",
              "    .dataframe tbody tr th:only-of-type {\n",
              "        vertical-align: middle;\n",
              "    }\n",
              "\n",
              "    .dataframe tbody tr th {\n",
              "        vertical-align: top;\n",
              "    }\n",
              "\n",
              "    .dataframe thead th {\n",
              "        text-align: right;\n",
              "    }\n",
              "</style>\n",
              "<table border=\"1\" class=\"dataframe\">\n",
              "  <thead>\n",
              "    <tr style=\"text-align: right;\">\n",
              "      <th></th>\n",
              "      <th>0</th>\n",
              "      <th>1</th>\n",
              "      <th>2</th>\n",
              "    </tr>\n",
              "  </thead>\n",
              "  <tbody>\n",
              "    <tr>\n",
              "      <th>PASSENGERS</th>\n",
              "      <td>0</td>\n",
              "      <td>0</td>\n",
              "      <td>0</td>\n",
              "    </tr>\n",
              "    <tr>\n",
              "      <th>FREIGHT</th>\n",
              "      <td>74974</td>\n",
              "      <td>1727598</td>\n",
              "      <td>75281</td>\n",
              "    </tr>\n",
              "    <tr>\n",
              "      <th>MAIL</th>\n",
              "      <td>0</td>\n",
              "      <td>0</td>\n",
              "      <td>0</td>\n",
              "    </tr>\n",
              "    <tr>\n",
              "      <th>DISTANCE</th>\n",
              "      <td>948</td>\n",
              "      <td>569</td>\n",
              "      <td>1319</td>\n",
              "    </tr>\n",
              "    <tr>\n",
              "      <th>UNIQUE_CARRIER</th>\n",
              "      <td>KAQ</td>\n",
              "      <td>KAQ</td>\n",
              "      <td>KAQ</td>\n",
              "    </tr>\n",
              "    <tr>\n",
              "      <th>ORIGIN</th>\n",
              "      <td>CVG</td>\n",
              "      <td>CVG</td>\n",
              "      <td>CVG</td>\n",
              "    </tr>\n",
              "    <tr>\n",
              "      <th>ORIGIN_CITY_NAME</th>\n",
              "      <td>Cincinnati, OH</td>\n",
              "      <td>Cincinnati, OH</td>\n",
              "      <td>Cincinnati, OH</td>\n",
              "    </tr>\n",
              "    <tr>\n",
              "      <th>ORIGIN_STATE_ABR</th>\n",
              "      <td>KY</td>\n",
              "      <td>KY</td>\n",
              "      <td>KY</td>\n",
              "    </tr>\n",
              "    <tr>\n",
              "      <th>ORIGIN_STATE_NM</th>\n",
              "      <td>Kentucky</td>\n",
              "      <td>Kentucky</td>\n",
              "      <td>Kentucky</td>\n",
              "    </tr>\n",
              "    <tr>\n",
              "      <th>DEST</th>\n",
              "      <td>MIA</td>\n",
              "      <td>EWR</td>\n",
              "      <td>ELP</td>\n",
              "    </tr>\n",
              "    <tr>\n",
              "      <th>DEST_CITY_NAME</th>\n",
              "      <td>Miami, FL</td>\n",
              "      <td>Newark, NJ</td>\n",
              "      <td>El Paso, TX</td>\n",
              "    </tr>\n",
              "    <tr>\n",
              "      <th>DEST_STATE_ABR</th>\n",
              "      <td>FL</td>\n",
              "      <td>NJ</td>\n",
              "      <td>TX</td>\n",
              "    </tr>\n",
              "    <tr>\n",
              "      <th>DEST_STATE_NM</th>\n",
              "      <td>Florida</td>\n",
              "      <td>New Jersey</td>\n",
              "      <td>Texas</td>\n",
              "    </tr>\n",
              "    <tr>\n",
              "      <th>YEAR</th>\n",
              "      <td>2021</td>\n",
              "      <td>2021</td>\n",
              "      <td>2021</td>\n",
              "    </tr>\n",
              "    <tr>\n",
              "      <th>QUARTER</th>\n",
              "      <td>1</td>\n",
              "      <td>1</td>\n",
              "      <td>1</td>\n",
              "    </tr>\n",
              "    <tr>\n",
              "      <th>MONTH</th>\n",
              "      <td>1</td>\n",
              "      <td>1</td>\n",
              "      <td>1</td>\n",
              "    </tr>\n",
              "    <tr>\n",
              "      <th>CLASS</th>\n",
              "      <td>P</td>\n",
              "      <td>P</td>\n",
              "      <td>P</td>\n",
              "    </tr>\n",
              "  </tbody>\n",
              "</table>\n",
              "</div>\n",
              "      <button class=\"colab-df-convert\" onclick=\"convertToInteractive('df-bdeb7ba5-504c-43d5-8c2d-18917fd83e91')\"\n",
              "              title=\"Convert this dataframe to an interactive table.\"\n",
              "              style=\"display:none;\">\n",
              "        \n",
              "  <svg xmlns=\"http://www.w3.org/2000/svg\" height=\"24px\"viewBox=\"0 0 24 24\"\n",
              "       width=\"24px\">\n",
              "    <path d=\"M0 0h24v24H0V0z\" fill=\"none\"/>\n",
              "    <path d=\"M18.56 5.44l.94 2.06.94-2.06 2.06-.94-2.06-.94-.94-2.06-.94 2.06-2.06.94zm-11 1L8.5 8.5l.94-2.06 2.06-.94-2.06-.94L8.5 2.5l-.94 2.06-2.06.94zm10 10l.94 2.06.94-2.06 2.06-.94-2.06-.94-.94-2.06-.94 2.06-2.06.94z\"/><path d=\"M17.41 7.96l-1.37-1.37c-.4-.4-.92-.59-1.43-.59-.52 0-1.04.2-1.43.59L10.3 9.45l-7.72 7.72c-.78.78-.78 2.05 0 2.83L4 21.41c.39.39.9.59 1.41.59.51 0 1.02-.2 1.41-.59l7.78-7.78 2.81-2.81c.8-.78.8-2.07 0-2.86zM5.41 20L4 18.59l7.72-7.72 1.47 1.35L5.41 20z\"/>\n",
              "  </svg>\n",
              "      </button>\n",
              "      \n",
              "  <style>\n",
              "    .colab-df-container {\n",
              "      display:flex;\n",
              "      flex-wrap:wrap;\n",
              "      gap: 12px;\n",
              "    }\n",
              "\n",
              "    .colab-df-convert {\n",
              "      background-color: #E8F0FE;\n",
              "      border: none;\n",
              "      border-radius: 50%;\n",
              "      cursor: pointer;\n",
              "      display: none;\n",
              "      fill: #1967D2;\n",
              "      height: 32px;\n",
              "      padding: 0 0 0 0;\n",
              "      width: 32px;\n",
              "    }\n",
              "\n",
              "    .colab-df-convert:hover {\n",
              "      background-color: #E2EBFA;\n",
              "      box-shadow: 0px 1px 2px rgba(60, 64, 67, 0.3), 0px 1px 3px 1px rgba(60, 64, 67, 0.15);\n",
              "      fill: #174EA6;\n",
              "    }\n",
              "\n",
              "    [theme=dark] .colab-df-convert {\n",
              "      background-color: #3B4455;\n",
              "      fill: #D2E3FC;\n",
              "    }\n",
              "\n",
              "    [theme=dark] .colab-df-convert:hover {\n",
              "      background-color: #434B5C;\n",
              "      box-shadow: 0px 1px 3px 1px rgba(0, 0, 0, 0.15);\n",
              "      filter: drop-shadow(0px 1px 2px rgba(0, 0, 0, 0.3));\n",
              "      fill: #FFFFFF;\n",
              "    }\n",
              "  </style>\n",
              "\n",
              "      <script>\n",
              "        const buttonEl =\n",
              "          document.querySelector('#df-bdeb7ba5-504c-43d5-8c2d-18917fd83e91 button.colab-df-convert');\n",
              "        buttonEl.style.display =\n",
              "          google.colab.kernel.accessAllowed ? 'block' : 'none';\n",
              "\n",
              "        async function convertToInteractive(key) {\n",
              "          const element = document.querySelector('#df-bdeb7ba5-504c-43d5-8c2d-18917fd83e91');\n",
              "          const dataTable =\n",
              "            await google.colab.kernel.invokeFunction('convertToInteractive',\n",
              "                                                     [key], {});\n",
              "          if (!dataTable) return;\n",
              "\n",
              "          const docLinkHtml = 'Like what you see? Visit the ' +\n",
              "            '<a target=\"_blank\" href=https://colab.research.google.com/notebooks/data_table.ipynb>data table notebook</a>'\n",
              "            + ' to learn more about interactive tables.';\n",
              "          element.innerHTML = '';\n",
              "          dataTable['output_type'] = 'display_data';\n",
              "          await google.colab.output.renderOutput(dataTable, element);\n",
              "          const docLink = document.createElement('div');\n",
              "          docLink.innerHTML = docLinkHtml;\n",
              "          element.appendChild(docLink);\n",
              "        }\n",
              "      </script>\n",
              "    </div>\n",
              "  </div>\n",
              "  "
            ]
          },
          "metadata": {},
          "execution_count": 8
        }
      ]
    },
    {
      "cell_type": "code",
      "source": [
        "flight_traffic_2017.head(3).T"
      ],
      "metadata": {
        "colab": {
          "base_uri": "https://localhost:8080/",
          "height": 802
        },
        "id": "VwW3MVURTuOy",
        "outputId": "3a5503a7-800c-47e3-a7cd-778bdc6a0768"
      },
      "execution_count": null,
      "outputs": [
        {
          "output_type": "execute_result",
          "data": {
            "text/plain": [
              "                          0       1       2\n",
              "year                   2017    2017    2017\n",
              "month                     1       1       1\n",
              "day                      31      12      14\n",
              "airline_id               AA      AA      AA\n",
              "origin_airport          CLT     FLL     FLL\n",
              "destination_airport     PHX     CLT     CLT\n",
              "scheduled_departure    1619    1305    1305\n",
              "actual_departure     1615.0  1256.0  1314.0\n",
              "taxi_out               18.0    24.0    11.0\n",
              "wheels_off           1633.0  1320.0  1325.0\n",
              "wheels_on            1829.0  1456.0  1455.0\n",
              "taxi_in                 7.0     9.0     7.0\n",
              "scheduled_arrival      1856    1508    1508\n",
              "actual_arrival       1836.0  1505.0  1502.0\n",
              "cancelled                 0       0       0\n",
              "diverted                  0       0       0\n",
              "scheduled_elapsed     277.0   123.0   123.0\n",
              "actual_elapsed        261.0   129.0   108.0\n",
              "distance               1773     632     632\n",
              "airline_delay           NaN     NaN     NaN\n",
              "weather_delay           NaN     NaN     NaN\n",
              "air_system_delay        NaN     NaN     NaN\n",
              "security_delay          NaN     NaN     NaN\n",
              "aircraft_delay          NaN     NaN     NaN"
            ],
            "text/html": [
              "\n",
              "  <div id=\"df-888f40b6-b5c8-4f34-9c10-66f76066a7ed\">\n",
              "    <div class=\"colab-df-container\">\n",
              "      <div>\n",
              "<style scoped>\n",
              "    .dataframe tbody tr th:only-of-type {\n",
              "        vertical-align: middle;\n",
              "    }\n",
              "\n",
              "    .dataframe tbody tr th {\n",
              "        vertical-align: top;\n",
              "    }\n",
              "\n",
              "    .dataframe thead th {\n",
              "        text-align: right;\n",
              "    }\n",
              "</style>\n",
              "<table border=\"1\" class=\"dataframe\">\n",
              "  <thead>\n",
              "    <tr style=\"text-align: right;\">\n",
              "      <th></th>\n",
              "      <th>0</th>\n",
              "      <th>1</th>\n",
              "      <th>2</th>\n",
              "    </tr>\n",
              "  </thead>\n",
              "  <tbody>\n",
              "    <tr>\n",
              "      <th>year</th>\n",
              "      <td>2017</td>\n",
              "      <td>2017</td>\n",
              "      <td>2017</td>\n",
              "    </tr>\n",
              "    <tr>\n",
              "      <th>month</th>\n",
              "      <td>1</td>\n",
              "      <td>1</td>\n",
              "      <td>1</td>\n",
              "    </tr>\n",
              "    <tr>\n",
              "      <th>day</th>\n",
              "      <td>31</td>\n",
              "      <td>12</td>\n",
              "      <td>14</td>\n",
              "    </tr>\n",
              "    <tr>\n",
              "      <th>airline_id</th>\n",
              "      <td>AA</td>\n",
              "      <td>AA</td>\n",
              "      <td>AA</td>\n",
              "    </tr>\n",
              "    <tr>\n",
              "      <th>origin_airport</th>\n",
              "      <td>CLT</td>\n",
              "      <td>FLL</td>\n",
              "      <td>FLL</td>\n",
              "    </tr>\n",
              "    <tr>\n",
              "      <th>destination_airport</th>\n",
              "      <td>PHX</td>\n",
              "      <td>CLT</td>\n",
              "      <td>CLT</td>\n",
              "    </tr>\n",
              "    <tr>\n",
              "      <th>scheduled_departure</th>\n",
              "      <td>1619</td>\n",
              "      <td>1305</td>\n",
              "      <td>1305</td>\n",
              "    </tr>\n",
              "    <tr>\n",
              "      <th>actual_departure</th>\n",
              "      <td>1615.0</td>\n",
              "      <td>1256.0</td>\n",
              "      <td>1314.0</td>\n",
              "    </tr>\n",
              "    <tr>\n",
              "      <th>taxi_out</th>\n",
              "      <td>18.0</td>\n",
              "      <td>24.0</td>\n",
              "      <td>11.0</td>\n",
              "    </tr>\n",
              "    <tr>\n",
              "      <th>wheels_off</th>\n",
              "      <td>1633.0</td>\n",
              "      <td>1320.0</td>\n",
              "      <td>1325.0</td>\n",
              "    </tr>\n",
              "    <tr>\n",
              "      <th>wheels_on</th>\n",
              "      <td>1829.0</td>\n",
              "      <td>1456.0</td>\n",
              "      <td>1455.0</td>\n",
              "    </tr>\n",
              "    <tr>\n",
              "      <th>taxi_in</th>\n",
              "      <td>7.0</td>\n",
              "      <td>9.0</td>\n",
              "      <td>7.0</td>\n",
              "    </tr>\n",
              "    <tr>\n",
              "      <th>scheduled_arrival</th>\n",
              "      <td>1856</td>\n",
              "      <td>1508</td>\n",
              "      <td>1508</td>\n",
              "    </tr>\n",
              "    <tr>\n",
              "      <th>actual_arrival</th>\n",
              "      <td>1836.0</td>\n",
              "      <td>1505.0</td>\n",
              "      <td>1502.0</td>\n",
              "    </tr>\n",
              "    <tr>\n",
              "      <th>cancelled</th>\n",
              "      <td>0</td>\n",
              "      <td>0</td>\n",
              "      <td>0</td>\n",
              "    </tr>\n",
              "    <tr>\n",
              "      <th>diverted</th>\n",
              "      <td>0</td>\n",
              "      <td>0</td>\n",
              "      <td>0</td>\n",
              "    </tr>\n",
              "    <tr>\n",
              "      <th>scheduled_elapsed</th>\n",
              "      <td>277.0</td>\n",
              "      <td>123.0</td>\n",
              "      <td>123.0</td>\n",
              "    </tr>\n",
              "    <tr>\n",
              "      <th>actual_elapsed</th>\n",
              "      <td>261.0</td>\n",
              "      <td>129.0</td>\n",
              "      <td>108.0</td>\n",
              "    </tr>\n",
              "    <tr>\n",
              "      <th>distance</th>\n",
              "      <td>1773</td>\n",
              "      <td>632</td>\n",
              "      <td>632</td>\n",
              "    </tr>\n",
              "    <tr>\n",
              "      <th>airline_delay</th>\n",
              "      <td>NaN</td>\n",
              "      <td>NaN</td>\n",
              "      <td>NaN</td>\n",
              "    </tr>\n",
              "    <tr>\n",
              "      <th>weather_delay</th>\n",
              "      <td>NaN</td>\n",
              "      <td>NaN</td>\n",
              "      <td>NaN</td>\n",
              "    </tr>\n",
              "    <tr>\n",
              "      <th>air_system_delay</th>\n",
              "      <td>NaN</td>\n",
              "      <td>NaN</td>\n",
              "      <td>NaN</td>\n",
              "    </tr>\n",
              "    <tr>\n",
              "      <th>security_delay</th>\n",
              "      <td>NaN</td>\n",
              "      <td>NaN</td>\n",
              "      <td>NaN</td>\n",
              "    </tr>\n",
              "    <tr>\n",
              "      <th>aircraft_delay</th>\n",
              "      <td>NaN</td>\n",
              "      <td>NaN</td>\n",
              "      <td>NaN</td>\n",
              "    </tr>\n",
              "  </tbody>\n",
              "</table>\n",
              "</div>\n",
              "      <button class=\"colab-df-convert\" onclick=\"convertToInteractive('df-888f40b6-b5c8-4f34-9c10-66f76066a7ed')\"\n",
              "              title=\"Convert this dataframe to an interactive table.\"\n",
              "              style=\"display:none;\">\n",
              "        \n",
              "  <svg xmlns=\"http://www.w3.org/2000/svg\" height=\"24px\"viewBox=\"0 0 24 24\"\n",
              "       width=\"24px\">\n",
              "    <path d=\"M0 0h24v24H0V0z\" fill=\"none\"/>\n",
              "    <path d=\"M18.56 5.44l.94 2.06.94-2.06 2.06-.94-2.06-.94-.94-2.06-.94 2.06-2.06.94zm-11 1L8.5 8.5l.94-2.06 2.06-.94-2.06-.94L8.5 2.5l-.94 2.06-2.06.94zm10 10l.94 2.06.94-2.06 2.06-.94-2.06-.94-.94-2.06-.94 2.06-2.06.94z\"/><path d=\"M17.41 7.96l-1.37-1.37c-.4-.4-.92-.59-1.43-.59-.52 0-1.04.2-1.43.59L10.3 9.45l-7.72 7.72c-.78.78-.78 2.05 0 2.83L4 21.41c.39.39.9.59 1.41.59.51 0 1.02-.2 1.41-.59l7.78-7.78 2.81-2.81c.8-.78.8-2.07 0-2.86zM5.41 20L4 18.59l7.72-7.72 1.47 1.35L5.41 20z\"/>\n",
              "  </svg>\n",
              "      </button>\n",
              "      \n",
              "  <style>\n",
              "    .colab-df-container {\n",
              "      display:flex;\n",
              "      flex-wrap:wrap;\n",
              "      gap: 12px;\n",
              "    }\n",
              "\n",
              "    .colab-df-convert {\n",
              "      background-color: #E8F0FE;\n",
              "      border: none;\n",
              "      border-radius: 50%;\n",
              "      cursor: pointer;\n",
              "      display: none;\n",
              "      fill: #1967D2;\n",
              "      height: 32px;\n",
              "      padding: 0 0 0 0;\n",
              "      width: 32px;\n",
              "    }\n",
              "\n",
              "    .colab-df-convert:hover {\n",
              "      background-color: #E2EBFA;\n",
              "      box-shadow: 0px 1px 2px rgba(60, 64, 67, 0.3), 0px 1px 3px 1px rgba(60, 64, 67, 0.15);\n",
              "      fill: #174EA6;\n",
              "    }\n",
              "\n",
              "    [theme=dark] .colab-df-convert {\n",
              "      background-color: #3B4455;\n",
              "      fill: #D2E3FC;\n",
              "    }\n",
              "\n",
              "    [theme=dark] .colab-df-convert:hover {\n",
              "      background-color: #434B5C;\n",
              "      box-shadow: 0px 1px 3px 1px rgba(0, 0, 0, 0.15);\n",
              "      filter: drop-shadow(0px 1px 2px rgba(0, 0, 0, 0.3));\n",
              "      fill: #FFFFFF;\n",
              "    }\n",
              "  </style>\n",
              "\n",
              "      <script>\n",
              "        const buttonEl =\n",
              "          document.querySelector('#df-888f40b6-b5c8-4f34-9c10-66f76066a7ed button.colab-df-convert');\n",
              "        buttonEl.style.display =\n",
              "          google.colab.kernel.accessAllowed ? 'block' : 'none';\n",
              "\n",
              "        async function convertToInteractive(key) {\n",
              "          const element = document.querySelector('#df-888f40b6-b5c8-4f34-9c10-66f76066a7ed');\n",
              "          const dataTable =\n",
              "            await google.colab.kernel.invokeFunction('convertToInteractive',\n",
              "                                                     [key], {});\n",
              "          if (!dataTable) return;\n",
              "\n",
              "          const docLinkHtml = 'Like what you see? Visit the ' +\n",
              "            '<a target=\"_blank\" href=https://colab.research.google.com/notebooks/data_table.ipynb>data table notebook</a>'\n",
              "            + ' to learn more about interactive tables.';\n",
              "          element.innerHTML = '';\n",
              "          dataTable['output_type'] = 'display_data';\n",
              "          await google.colab.output.renderOutput(dataTable, element);\n",
              "          const docLink = document.createElement('div');\n",
              "          docLink.innerHTML = docLinkHtml;\n",
              "          element.appendChild(docLink);\n",
              "        }\n",
              "      </script>\n",
              "    </div>\n",
              "  </div>\n",
              "  "
            ]
          },
          "metadata": {},
          "execution_count": 9
        }
      ]
    },
    {
      "cell_type": "code",
      "source": [
        "weather_summary_2017.head(3).T"
      ],
      "metadata": {
        "colab": {
          "base_uri": "https://localhost:8080/",
          "height": 487
        },
        "id": "HmqRS3vBT0kn",
        "outputId": "32b9214e-1e6b-45e4-ae29-a93877e10cbf"
      },
      "execution_count": null,
      "outputs": [
        {
          "output_type": "execute_result",
          "data": {
            "text/plain": [
              "                                                   0  \\\n",
              "airport_id                                       BUF   \n",
              "airport_name    BUFFALO NIAGARA INTERNATIONAL, NY US   \n",
              "latitude                                     42.9408   \n",
              "longitude                                   -78.7358   \n",
              "elevation                                      218.2   \n",
              "datetime                         2017-01-01T00:54:00   \n",
              "temperature                                      3.9   \n",
              "visibility                                     16093   \n",
              "wind_direction                                   220   \n",
              "wind_speed                                       7.2   \n",
              "snow_depth                                       NaN   \n",
              "cloud_status                                     NaN   \n",
              "\n",
              "                                                   1  \\\n",
              "airport_id                                       BUF   \n",
              "airport_name    BUFFALO NIAGARA INTERNATIONAL, NY US   \n",
              "latitude                                     42.9408   \n",
              "longitude                                   -78.7358   \n",
              "elevation                                      218.2   \n",
              "datetime                         2017-01-01T06:54:00   \n",
              "temperature                                      0.6   \n",
              "visibility                                     16093   \n",
              "wind_direction                                   260   \n",
              "wind_speed                                       6.2   \n",
              "snow_depth                                       NaN   \n",
              "cloud_status                                     NaN   \n",
              "\n",
              "                                                   2  \n",
              "airport_id                                       BUF  \n",
              "airport_name    BUFFALO NIAGARA INTERNATIONAL, NY US  \n",
              "latitude                                     42.9408  \n",
              "longitude                                   -78.7358  \n",
              "elevation                                      218.2  \n",
              "datetime                         2017-01-01T12:54:00  \n",
              "temperature                                     -0.6  \n",
              "visibility                                     16093  \n",
              "wind_direction                                   250  \n",
              "wind_speed                                       5.1  \n",
              "snow_depth                                       NaN  \n",
              "cloud_status                                     9.0  "
            ],
            "text/html": [
              "\n",
              "  <div id=\"df-ddaa868a-a738-45f6-9617-22a86290c2d2\">\n",
              "    <div class=\"colab-df-container\">\n",
              "      <div>\n",
              "<style scoped>\n",
              "    .dataframe tbody tr th:only-of-type {\n",
              "        vertical-align: middle;\n",
              "    }\n",
              "\n",
              "    .dataframe tbody tr th {\n",
              "        vertical-align: top;\n",
              "    }\n",
              "\n",
              "    .dataframe thead th {\n",
              "        text-align: right;\n",
              "    }\n",
              "</style>\n",
              "<table border=\"1\" class=\"dataframe\">\n",
              "  <thead>\n",
              "    <tr style=\"text-align: right;\">\n",
              "      <th></th>\n",
              "      <th>0</th>\n",
              "      <th>1</th>\n",
              "      <th>2</th>\n",
              "    </tr>\n",
              "  </thead>\n",
              "  <tbody>\n",
              "    <tr>\n",
              "      <th>airport_id</th>\n",
              "      <td>BUF</td>\n",
              "      <td>BUF</td>\n",
              "      <td>BUF</td>\n",
              "    </tr>\n",
              "    <tr>\n",
              "      <th>airport_name</th>\n",
              "      <td>BUFFALO NIAGARA INTERNATIONAL, NY US</td>\n",
              "      <td>BUFFALO NIAGARA INTERNATIONAL, NY US</td>\n",
              "      <td>BUFFALO NIAGARA INTERNATIONAL, NY US</td>\n",
              "    </tr>\n",
              "    <tr>\n",
              "      <th>latitude</th>\n",
              "      <td>42.9408</td>\n",
              "      <td>42.9408</td>\n",
              "      <td>42.9408</td>\n",
              "    </tr>\n",
              "    <tr>\n",
              "      <th>longitude</th>\n",
              "      <td>-78.7358</td>\n",
              "      <td>-78.7358</td>\n",
              "      <td>-78.7358</td>\n",
              "    </tr>\n",
              "    <tr>\n",
              "      <th>elevation</th>\n",
              "      <td>218.2</td>\n",
              "      <td>218.2</td>\n",
              "      <td>218.2</td>\n",
              "    </tr>\n",
              "    <tr>\n",
              "      <th>datetime</th>\n",
              "      <td>2017-01-01T00:54:00</td>\n",
              "      <td>2017-01-01T06:54:00</td>\n",
              "      <td>2017-01-01T12:54:00</td>\n",
              "    </tr>\n",
              "    <tr>\n",
              "      <th>temperature</th>\n",
              "      <td>3.9</td>\n",
              "      <td>0.6</td>\n",
              "      <td>-0.6</td>\n",
              "    </tr>\n",
              "    <tr>\n",
              "      <th>visibility</th>\n",
              "      <td>16093</td>\n",
              "      <td>16093</td>\n",
              "      <td>16093</td>\n",
              "    </tr>\n",
              "    <tr>\n",
              "      <th>wind_direction</th>\n",
              "      <td>220</td>\n",
              "      <td>260</td>\n",
              "      <td>250</td>\n",
              "    </tr>\n",
              "    <tr>\n",
              "      <th>wind_speed</th>\n",
              "      <td>7.2</td>\n",
              "      <td>6.2</td>\n",
              "      <td>5.1</td>\n",
              "    </tr>\n",
              "    <tr>\n",
              "      <th>snow_depth</th>\n",
              "      <td>NaN</td>\n",
              "      <td>NaN</td>\n",
              "      <td>NaN</td>\n",
              "    </tr>\n",
              "    <tr>\n",
              "      <th>cloud_status</th>\n",
              "      <td>NaN</td>\n",
              "      <td>NaN</td>\n",
              "      <td>9.0</td>\n",
              "    </tr>\n",
              "  </tbody>\n",
              "</table>\n",
              "</div>\n",
              "      <button class=\"colab-df-convert\" onclick=\"convertToInteractive('df-ddaa868a-a738-45f6-9617-22a86290c2d2')\"\n",
              "              title=\"Convert this dataframe to an interactive table.\"\n",
              "              style=\"display:none;\">\n",
              "        \n",
              "  <svg xmlns=\"http://www.w3.org/2000/svg\" height=\"24px\"viewBox=\"0 0 24 24\"\n",
              "       width=\"24px\">\n",
              "    <path d=\"M0 0h24v24H0V0z\" fill=\"none\"/>\n",
              "    <path d=\"M18.56 5.44l.94 2.06.94-2.06 2.06-.94-2.06-.94-.94-2.06-.94 2.06-2.06.94zm-11 1L8.5 8.5l.94-2.06 2.06-.94-2.06-.94L8.5 2.5l-.94 2.06-2.06.94zm10 10l.94 2.06.94-2.06 2.06-.94-2.06-.94-.94-2.06-.94 2.06-2.06.94z\"/><path d=\"M17.41 7.96l-1.37-1.37c-.4-.4-.92-.59-1.43-.59-.52 0-1.04.2-1.43.59L10.3 9.45l-7.72 7.72c-.78.78-.78 2.05 0 2.83L4 21.41c.39.39.9.59 1.41.59.51 0 1.02-.2 1.41-.59l7.78-7.78 2.81-2.81c.8-.78.8-2.07 0-2.86zM5.41 20L4 18.59l7.72-7.72 1.47 1.35L5.41 20z\"/>\n",
              "  </svg>\n",
              "      </button>\n",
              "      \n",
              "  <style>\n",
              "    .colab-df-container {\n",
              "      display:flex;\n",
              "      flex-wrap:wrap;\n",
              "      gap: 12px;\n",
              "    }\n",
              "\n",
              "    .colab-df-convert {\n",
              "      background-color: #E8F0FE;\n",
              "      border: none;\n",
              "      border-radius: 50%;\n",
              "      cursor: pointer;\n",
              "      display: none;\n",
              "      fill: #1967D2;\n",
              "      height: 32px;\n",
              "      padding: 0 0 0 0;\n",
              "      width: 32px;\n",
              "    }\n",
              "\n",
              "    .colab-df-convert:hover {\n",
              "      background-color: #E2EBFA;\n",
              "      box-shadow: 0px 1px 2px rgba(60, 64, 67, 0.3), 0px 1px 3px 1px rgba(60, 64, 67, 0.15);\n",
              "      fill: #174EA6;\n",
              "    }\n",
              "\n",
              "    [theme=dark] .colab-df-convert {\n",
              "      background-color: #3B4455;\n",
              "      fill: #D2E3FC;\n",
              "    }\n",
              "\n",
              "    [theme=dark] .colab-df-convert:hover {\n",
              "      background-color: #434B5C;\n",
              "      box-shadow: 0px 1px 3px 1px rgba(0, 0, 0, 0.15);\n",
              "      filter: drop-shadow(0px 1px 2px rgba(0, 0, 0, 0.3));\n",
              "      fill: #FFFFFF;\n",
              "    }\n",
              "  </style>\n",
              "\n",
              "      <script>\n",
              "        const buttonEl =\n",
              "          document.querySelector('#df-ddaa868a-a738-45f6-9617-22a86290c2d2 button.colab-df-convert');\n",
              "        buttonEl.style.display =\n",
              "          google.colab.kernel.accessAllowed ? 'block' : 'none';\n",
              "\n",
              "        async function convertToInteractive(key) {\n",
              "          const element = document.querySelector('#df-ddaa868a-a738-45f6-9617-22a86290c2d2');\n",
              "          const dataTable =\n",
              "            await google.colab.kernel.invokeFunction('convertToInteractive',\n",
              "                                                     [key], {});\n",
              "          if (!dataTable) return;\n",
              "\n",
              "          const docLinkHtml = 'Like what you see? Visit the ' +\n",
              "            '<a target=\"_blank\" href=https://colab.research.google.com/notebooks/data_table.ipynb>data table notebook</a>'\n",
              "            + ' to learn more about interactive tables.';\n",
              "          element.innerHTML = '';\n",
              "          dataTable['output_type'] = 'display_data';\n",
              "          await google.colab.output.renderOutput(dataTable, element);\n",
              "          const docLink = document.createElement('div');\n",
              "          docLink.innerHTML = docLinkHtml;\n",
              "          element.appendChild(docLink);\n",
              "        }\n",
              "      </script>\n",
              "    </div>\n",
              "  </div>\n",
              "  "
            ]
          },
          "metadata": {},
          "execution_count": 10
        }
      ]
    },
    {
      "cell_type": "markdown",
      "source": [
        "# Data Cleaning"
      ],
      "metadata": {
        "id": "f27KhNqlT6Qs"
      }
    },
    {
      "cell_type": "code",
      "source": [
        "flight_traffic_2017 = flight_traffic_2017.fillna(0)"
      ],
      "metadata": {
        "id": "MnpPm-kaT8kR"
      },
      "execution_count": null,
      "outputs": []
    },
    {
      "cell_type": "markdown",
      "source": [
        "# Explanatory Data Analysis (EDA)"
      ],
      "metadata": {
        "id": "89uXPB6mUCDE"
      }
    },
    {
      "cell_type": "markdown",
      "source": [
        "## Delay Reason Analysis"
      ],
      "metadata": {
        "id": "6izQtwptUOpp"
      }
    },
    {
      "cell_type": "markdown",
      "source": [
        "### overall delay rate"
      ],
      "metadata": {
        "id": "HDyHLKHCWFi6"
      }
    },
    {
      "cell_type": "code",
      "source": [
        "flight_traffic_2017 = flight_traffic_2017.fillna(0)\n",
        "flight_traffic_2017['overall_delay_flag'] = np.where(flight_traffic_2017['airline_delay']+\n",
        "                        flight_traffic_2017['weather_delay']+\n",
        "                        flight_traffic_2017['air_system_delay']+\n",
        "                        flight_traffic_2017['security_delay']+\n",
        "                        flight_traffic_2017['aircraft_delay'] > 0,\n",
        "                        1, 0\n",
        "                       )"
      ],
      "metadata": {
        "id": "jxhJuUlEUB1N"
      },
      "execution_count": null,
      "outputs": []
    },
    {
      "cell_type": "code",
      "source": [
        "flight_traffic_2017['overall_delay_flag'].value_counts()"
      ],
      "metadata": {
        "colab": {
          "base_uri": "https://localhost:8080/"
        },
        "id": "6Zz3PsIVV07G",
        "outputId": "fd53d495-1b54-4f71-d244-f550a740264d"
      },
      "execution_count": null,
      "outputs": [
        {
          "output_type": "execute_result",
          "data": {
            "text/plain": [
              "0    465067\n",
              "1    102606\n",
              "Name: overall_delay_flag, dtype: int64"
            ]
          },
          "metadata": {},
          "execution_count": 12
        }
      ]
    },
    {
      "cell_type": "code",
      "source": [
        "delay_rate = flight_traffic_2017['overall_delay_flag'].value_counts()[1] / sum(flight_traffic_2017['overall_delay_flag'].value_counts())\n",
        "print('overall_delay_rate:{:.2f}%'.format(delay_rate*100))"
      ],
      "metadata": {
        "colab": {
          "base_uri": "https://localhost:8080/"
        },
        "id": "b2rzkQ5zd0sQ",
        "outputId": "8ce2a507-7927-401e-ead4-70d32fe54e10"
      },
      "execution_count": null,
      "outputs": [
        {
          "output_type": "stream",
          "name": "stdout",
          "text": [
            "overall_delay_rate:18.07%\n"
          ]
        }
      ]
    },
    {
      "cell_type": "markdown",
      "source": [
        "### delay rate of 5 reasons"
      ],
      "metadata": {
        "id": "TzjMkd0jZS3e"
      }
    },
    {
      "cell_type": "code",
      "source": [
        "flight_traffic_2017['airline_delay_flag'] = np.where(flight_traffic_2017['airline_delay'] > 0,\n",
        "                        1, 0\n",
        "                       )\n",
        "flight_traffic_2017['weather_delay_flag'] = np.where(flight_traffic_2017['weather_delay'] > 0,\n",
        "                        1, 0\n",
        "                       )\n",
        "flight_traffic_2017['air_system_delay_flag'] = np.where(flight_traffic_2017['air_system_delay'] > 0,\n",
        "                        1, 0\n",
        "                       )\n",
        "flight_traffic_2017['security_delay_flag'] = np.where(flight_traffic_2017['security_delay'] > 0,\n",
        "                        1, 0\n",
        "                       )\n",
        "flight_traffic_2017['aircraft_delay_flag'] = np.where(flight_traffic_2017['aircraft_delay'] > 0,\n",
        "                        1, 0\n",
        "                       )"
      ],
      "metadata": {
        "id": "FK1glD4YZYF9"
      },
      "execution_count": null,
      "outputs": []
    },
    {
      "cell_type": "code",
      "source": [
        "flight_traffic_2017['aircraft_delay_flag'].value_counts()"
      ],
      "metadata": {
        "colab": {
          "base_uri": "https://localhost:8080/"
        },
        "id": "upOZPAIV28ed",
        "outputId": "18ddb349-1b8c-4c26-e850-9c254268fbcf"
      },
      "execution_count": null,
      "outputs": [
        {
          "output_type": "execute_result",
          "data": {
            "text/plain": [
              "0    513172\n",
              "1     54501\n",
              "Name: aircraft_delay_flag, dtype: int64"
            ]
          },
          "metadata": {},
          "execution_count": 15
        }
      ]
    },
    {
      "cell_type": "code",
      "source": [
        "airline_delay_rate = flight_traffic_2017['airline_delay_flag'].value_counts()[1]/sum(flight_traffic_2017['airline_delay_flag'].value_counts())\n",
        "weather_delay_rate = flight_traffic_2017['weather_delay_flag'].value_counts()[1]/sum(flight_traffic_2017['weather_delay_flag'].value_counts())\n",
        "air_system_delay_rate = flight_traffic_2017['air_system_delay_flag'].value_counts()[1]/sum(flight_traffic_2017['air_system_delay_flag'].value_counts())\n",
        "security_delay_rate = flight_traffic_2017['security_delay_flag'].value_counts()[1]/sum(flight_traffic_2017['security_delay_flag'].value_counts())\n",
        "aircraft_delay_rate = flight_traffic_2017['aircraft_delay_flag'].value_counts()[1]/sum(flight_traffic_2017['aircraft_delay_flag'].value_counts())"
      ],
      "metadata": {
        "id": "CaNtW9HRcn-g"
      },
      "execution_count": null,
      "outputs": []
    },
    {
      "cell_type": "code",
      "source": [
        "flight_traffic_2017['aircraft_delay_flag'].value_counts()"
      ],
      "metadata": {
        "colab": {
          "base_uri": "https://localhost:8080/"
        },
        "id": "Pz2AAHA0dsy0",
        "outputId": "c8f90061-5adf-4688-c528-3017811b34cb"
      },
      "execution_count": null,
      "outputs": [
        {
          "output_type": "execute_result",
          "data": {
            "text/plain": [
              "0    513172\n",
              "1     54501\n",
              "Name: aircraft_delay_flag, dtype: int64"
            ]
          },
          "metadata": {},
          "execution_count": 17
        }
      ]
    },
    {
      "cell_type": "code",
      "source": [
        "print('airline_delay_rate:{:.2f}%'.format(airline_delay_rate*100))\n",
        "print('weather_delay_rate:{:.2f}%'.format(weather_delay_rate*100))\n",
        "print('air_system_delay_rate:{:.2f}%'.format(air_system_delay_rate*100))\n",
        "print('security_delay_rate:{:.2f}%'.format(security_delay_rate*100))\n",
        "print('aircraft_delay_rate:{:.2f}%'.format(aircraft_delay_rate*100))"
      ],
      "metadata": {
        "colab": {
          "base_uri": "https://localhost:8080/"
        },
        "id": "1dJPJHpVcxuc",
        "outputId": "fe1c43c0-47f9-425d-90f6-69bada393710"
      },
      "execution_count": null,
      "outputs": [
        {
          "output_type": "stream",
          "name": "stdout",
          "text": [
            "airline_delay_rate:9.05%\n",
            "weather_delay_rate:0.86%\n",
            "air_system_delay_rate:9.75%\n",
            "security_delay_rate:0.05%\n",
            "aircraft_delay_rate:9.60%\n"
          ]
        }
      ]
    },
    {
      "cell_type": "markdown",
      "source": [
        "- JetBlue"
      ],
      "metadata": {
        "id": "0hGBaTicxHZz"
      }
    },
    {
      "cell_type": "code",
      "source": [
        "JetBlue_2017 = flight_traffic_2017[flight_traffic_2017['airline_id'] == 'B6']\n",
        "JetBlue_2017['airline_delay_flag'] = np.where(JetBlue_2017['airline_delay'] > 0,\n",
        "                        1, 0\n",
        "                       )\n",
        "JetBlue_2017['weather_delay_flag'] = np.where(JetBlue_2017['weather_delay'] > 0,\n",
        "                        1, 0\n",
        "                       )\n",
        "JetBlue_2017['air_system_delay_flag'] = np.where(JetBlue_2017['air_system_delay'] > 0,\n",
        "                        1, 0\n",
        "                       )\n",
        "JetBlue_2017['security_delay_flag'] = np.where(JetBlue_2017['security_delay'] > 0,\n",
        "                        1, 0\n",
        "                       )\n",
        "JetBlue_2017['aircraft_delay_flag'] = np.where(JetBlue_2017['aircraft_delay'] > 0,\n",
        "                        1, 0\n",
        "                       )\n",
        "airline_delay_rate = JetBlue_2017['airline_delay_flag'].value_counts()[1]/sum(JetBlue_2017['airline_delay_flag'].value_counts())\n",
        "weather_delay_rate = JetBlue_2017['weather_delay_flag'].value_counts()[1]/sum(JetBlue_2017['weather_delay_flag'].value_counts())\n",
        "air_system_delay_rate = JetBlue_2017['air_system_delay_flag'].value_counts()[1]/sum(JetBlue_2017['air_system_delay_flag'].value_counts())\n",
        "security_delay_rate = JetBlue_2017['security_delay_flag'].value_counts()[1]/sum(JetBlue_2017['security_delay_flag'].value_counts())\n",
        "aircraft_delay_rate = JetBlue_2017['aircraft_delay_flag'].value_counts()[1]/sum(JetBlue_2017['aircraft_delay_flag'].value_counts())\n",
        "print('airline_delay_rate:{:.2f}%'.format(airline_delay_rate*100))\n",
        "print('weather_delay_rate:{:.2f}%'.format(weather_delay_rate*100))\n",
        "print('air_system_delay_rate:{:.2f}%'.format(air_system_delay_rate*100))\n",
        "print('security_delay_rate:{:.2f}%'.format(security_delay_rate*100))\n",
        "print('aircraft_delay_rate:{:.2f}%'.format(aircraft_delay_rate*100))\n"
      ],
      "metadata": {
        "colab": {
          "base_uri": "https://localhost:8080/"
        },
        "id": "Ocm74EmPxFKG",
        "outputId": "449c0b27-c182-4232-ad80-6525c1be8353"
      },
      "execution_count": null,
      "outputs": [
        {
          "output_type": "stream",
          "name": "stdout",
          "text": [
            "airline_delay_rate:16.98%\n",
            "weather_delay_rate:0.67%\n",
            "air_system_delay_rate:13.70%\n",
            "security_delay_rate:0.14%\n",
            "aircraft_delay_rate:14.76%\n"
          ]
        },
        {
          "output_type": "stream",
          "name": "stderr",
          "text": [
            "<ipython-input-52-030b9e5e8778>:2: SettingWithCopyWarning: \n",
            "A value is trying to be set on a copy of a slice from a DataFrame.\n",
            "Try using .loc[row_indexer,col_indexer] = value instead\n",
            "\n",
            "See the caveats in the documentation: https://pandas.pydata.org/pandas-docs/stable/user_guide/indexing.html#returning-a-view-versus-a-copy\n",
            "  JetBlue_2017['airline_delay_flag'] = np.where(JetBlue_2017['airline_delay'] > 0,\n",
            "<ipython-input-52-030b9e5e8778>:5: SettingWithCopyWarning: \n",
            "A value is trying to be set on a copy of a slice from a DataFrame.\n",
            "Try using .loc[row_indexer,col_indexer] = value instead\n",
            "\n",
            "See the caveats in the documentation: https://pandas.pydata.org/pandas-docs/stable/user_guide/indexing.html#returning-a-view-versus-a-copy\n",
            "  JetBlue_2017['weather_delay_flag'] = np.where(JetBlue_2017['weather_delay'] > 0,\n",
            "<ipython-input-52-030b9e5e8778>:8: SettingWithCopyWarning: \n",
            "A value is trying to be set on a copy of a slice from a DataFrame.\n",
            "Try using .loc[row_indexer,col_indexer] = value instead\n",
            "\n",
            "See the caveats in the documentation: https://pandas.pydata.org/pandas-docs/stable/user_guide/indexing.html#returning-a-view-versus-a-copy\n",
            "  JetBlue_2017['air_system_delay_flag'] = np.where(JetBlue_2017['air_system_delay'] > 0,\n",
            "<ipython-input-52-030b9e5e8778>:11: SettingWithCopyWarning: \n",
            "A value is trying to be set on a copy of a slice from a DataFrame.\n",
            "Try using .loc[row_indexer,col_indexer] = value instead\n",
            "\n",
            "See the caveats in the documentation: https://pandas.pydata.org/pandas-docs/stable/user_guide/indexing.html#returning-a-view-versus-a-copy\n",
            "  JetBlue_2017['security_delay_flag'] = np.where(JetBlue_2017['security_delay'] > 0,\n",
            "<ipython-input-52-030b9e5e8778>:14: SettingWithCopyWarning: \n",
            "A value is trying to be set on a copy of a slice from a DataFrame.\n",
            "Try using .loc[row_indexer,col_indexer] = value instead\n",
            "\n",
            "See the caveats in the documentation: https://pandas.pydata.org/pandas-docs/stable/user_guide/indexing.html#returning-a-view-versus-a-copy\n",
            "  JetBlue_2017['aircraft_delay_flag'] = np.where(JetBlue_2017['aircraft_delay'] > 0,\n"
          ]
        }
      ]
    },
    {
      "cell_type": "code",
      "source": [
        "y = [airline_delay_rate, weather_delay_rate, air_system_delay_rate, security_delay_rate, aircraft_delay_rate]\n",
        "y = y / np.sum(y)\n",
        "plt.pie(y, \n",
        "    labels=['airline delay rate','weather delay rate','air system delay rate','security delay rate', 'pre-flight delay rate'],\n",
        "    autopct='%.2f%%')\n",
        "plt.title(\"Ratio of 5 delay reasons of JetBlue Airline\")\n",
        "plt.show()"
      ],
      "metadata": {
        "colab": {
          "base_uri": "https://localhost:8080/",
          "height": 264
        },
        "id": "GI-VjORCBics",
        "outputId": "257fe1d0-138b-4bdc-a66d-a5dc9a0087d2"
      },
      "execution_count": null,
      "outputs": [
        {
          "output_type": "display_data",
          "data": {
            "text/plain": [
              "<Figure size 432x288 with 1 Axes>"
            ],
            "image/png": "[encoded data removed]"
          },
          "metadata": {}
        }
      ]
    },
    {
      "cell_type": "markdown",
      "source": [
        "### delay rate by minutes"
      ],
      "metadata": {
        "id": "TsOG9gWE882K"
      }
    },
    {
      "cell_type": "code",
      "source": [
        "result1 = pd.DataFrame()\n",
        "flight_delay_2016_2021 = flight_delay_2016_2021.fillna(0)\n",
        "result1['total_airline_delay_minutes'] = [sum(flight_delay_2016_2021['carrier_delay'])]\n",
        "result1['total_weather_delay_minutes'] = [sum(flight_delay_2016_2021['weather_delay'])]\n",
        "result1['total_air_system_delay_minutes'] = [sum(flight_delay_2016_2021['nas_delay'])]\n",
        "result1['total_security_delay_minutes'] = [sum(flight_delay_2016_2021['security_delay'])]\n",
        "result1['total_aircraft_delay_minutes'] = [sum(flight_delay_2016_2021['late_aircraft_delay'])]\n",
        "result1['total_delay_minutes'] = result1.sum(axis=1)\n",
        "rate1 = float(result1['total_airline_delay_minutes'] / result1['total_delay_minutes'])\n",
        "rate2 = float(result1['total_weather_delay_minutes'] / result1['total_delay_minutes'])\n",
        "rate3 = float(result1['total_air_system_delay_minutes'] / result1['total_delay_minutes'])\n",
        "rate4 = float(result1['total_security_delay_minutes'] / result1['total_delay_minutes'])\n",
        "rate5 = float(result1['total_aircraft_delay_minutes'] / result1['total_delay_minutes'])\n",
        "print('airline_delay_ratio 2016-2021 (by minutes):{:.2f}%'.format(rate1*100))\n",
        "print('weather_delay_rate 2016-2021 (by minutes):{:.2f}%'.format(rate2*100))\n",
        "print('air_system_delay_rate 2016-2021 (by minutes):{:.2f}%'.format(rate3*100))\n",
        "print('security_delay_rate 2016-2021 (by minutes):{:.2f}%'.format(rate4*100))\n",
        "print('aircraft_delay_rate 2016-2021 (by minutes):{:.2f}%'.format(rate5*100))"
      ],
      "metadata": {
        "colab": {
          "base_uri": "https://localhost:8080/"
        },
        "id": "9M8OFF0g8_XB",
        "outputId": "0ae23d77-d553-486e-a80a-d83edf415fab"
      },
      "execution_count": null,
      "outputs": [
        {
          "output_type": "stream",
          "name": "stdout",
          "text": [
            "airline_delay_ratio 2016-2021 (by minutes):33.45%\n",
            "weather_delay_rate 2016-2021 (by minutes):5.42%\n",
            "air_system_delay_rate 2016-2021 (by minutes):22.95%\n",
            "security_delay_rate 2016-2021 (by minutes):0.18%\n",
            "aircraft_delay_rate 2016-2021 (by minutes):38.00%\n"
          ]
        }
      ]
    },
    {
      "cell_type": "code",
      "source": [
        "sum(flight_delay_2016_2021['carrier_delay'])"
      ],
      "metadata": {
        "colab": {
          "base_uri": "https://localhost:8080/"
        },
        "id": "nBspeB9y119w",
        "outputId": "2d8cc68c-0f1f-4a56-ab9b-68bd13ccfafd"
      },
      "execution_count": null,
      "outputs": [
        {
          "output_type": "execute_result",
          "data": {
            "text/plain": [
              "nan"
            ]
          },
          "metadata": {},
          "execution_count": 22
        }
      ]
    },
    {
      "cell_type": "markdown",
      "source": [
        "# Airline Delay"
      ],
      "metadata": {
        "id": "ZKv7p_ad2l85"
      }
    },
    {
      "cell_type": "markdown",
      "source": [
        "## reduce airline delay by hiring more stuffs (JetBlue airline)\n",
        "![1675370502146.png](data:image/png;base64,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)\n",
        "![image.png](data:image/png;base64,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)\n",
        "- data source: https://www.transtats.bts.gov/carriers.asp?20=E"
      ],
      "metadata": {
        "id": "cODRbW6r2pTR"
      }
    },
    {
      "cell_type": "markdown",
      "source": [
        "### compute avergae late compensation fee per seat\n",
        "- source: https://www.jetblue.com/magnoliapublic/dam/ui-assets/p/Bill_Of_Rights.pdf\n",
        "\n",
        "![image.png](data:image/png;base64,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)\n",
        "![1675400475778.png](data:image/png;base64,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)"
      ],
      "metadata": {
        "id": "sSfYtkk4SoAB"
      }
    },
    {
      "cell_type": "code",
      "source": [
        "JetBlue_2017 = flight_traffic_2017[flight_traffic_2017['airline_id'] == 'B6']\n",
        "Delta_2017 = flight_traffic_2017[flight_traffic_2017['airline_id'] == 'DL']"
      ],
      "metadata": {
        "id": "Q-LkR2U8TfXW"
      },
      "execution_count": null,
      "outputs": []
    },
    {
      "cell_type": "code",
      "source": [
        "JetBlue_2017['airline_delay_flag'] = np.where(JetBlue_2017['airline_delay'] < 180, 0,\n",
        "                        np.where(JetBlue_2017['airline_delay'] < 240, 1,\n",
        "                        np.where(JetBlue_2017['airline_delay'] < 300, 2,\n",
        "                        np.where(JetBlue_2017['airline_delay'] < 360, 3,         \n",
        "                        4))))"
      ],
      "metadata": {
        "colab": {
          "base_uri": "https://localhost:8080/"
        },
        "id": "S9hwJqxlUopY",
        "outputId": "e33aa540-bf88-45b2-db46-c4fc89120721"
      },
      "execution_count": null,
      "outputs": [
        {
          "output_type": "stream",
          "name": "stderr",
          "text": [
            "<ipython-input-8-5ce0166397ed>:1: SettingWithCopyWarning: \n",
            "A value is trying to be set on a copy of a slice from a DataFrame.\n",
            "Try using .loc[row_indexer,col_indexer] = value instead\n",
            "\n",
            "See the caveats in the documentation: https://pandas.pydata.org/pandas-docs/stable/user_guide/indexing.html#returning-a-view-versus-a-copy\n",
            "  JetBlue_2017['airline_delay_flag'] = np.where(JetBlue_2017['airline_delay'] < 180, 0,\n"
          ]
        }
      ]
    },
    {
      "cell_type": "code",
      "source": [
        "JetBlue_2017['airline_delay_flag'] = np.where(JetBlue_2017['airline_delay'] < 60, 0,\n",
        "                        np.where(JetBlue_2017['airline_delay'] < 120, 1,\n",
        "                        np.where(JetBlue_2017['airline_delay'] < 180, 2, 3         \n",
        "                        )))"
      ],
      "metadata": {
        "colab": {
          "base_uri": "https://localhost:8080/"
        },
        "id": "bwZQ4uoUp32v",
        "outputId": "781b86df-1b8f-468b-ccd0-8e564312c92f"
      },
      "execution_count": null,
      "outputs": [
        {
          "output_type": "stream",
          "name": "stderr",
          "text": [
            "<ipython-input-21-801c2660cc90>:1: SettingWithCopyWarning: \n",
            "A value is trying to be set on a copy of a slice from a DataFrame.\n",
            "Try using .loc[row_indexer,col_indexer] = value instead\n",
            "\n",
            "See the caveats in the documentation: https://pandas.pydata.org/pandas-docs/stable/user_guide/indexing.html#returning-a-view-versus-a-copy\n",
            "  JetBlue_2017['airline_delay_flag'] = np.where(JetBlue_2017['airline_delay'] < 60, 0,\n"
          ]
        }
      ]
    },
    {
      "cell_type": "code",
      "source": [
        "JetBlue_2017['airline_delay_flag'].value_counts()"
      ],
      "metadata": {
        "colab": {
          "base_uri": "https://localhost:8080/"
        },
        "id": "cIZ1i4YYobBh",
        "outputId": "ba42ef40-410b-4d5a-899c-e4bfc78e8c9a"
      },
      "execution_count": null,
      "outputs": [
        {
          "output_type": "execute_result",
          "data": {
            "text/plain": [
              "0    29926\n",
              "1       58\n",
              "2       31\n",
              "4       11\n",
              "3       10\n",
              "Name: airline_delay_flag, dtype: int64"
            ]
          },
          "metadata": {},
          "execution_count": 9
        }
      ]
    },
    {
      "cell_type": "code",
      "source": [
        "# df = pd.DataFrame()\n",
        "# df['flag'] = ['0-3', '3-4', '4-5', '5-6', '6+']\n",
        "# df['delay count'] = [29926, 58, 31, 10, 11]\n",
        "# plt.bar(data=df, x='flag', y='delay count')\n",
        "\n",
        "x = [29926, 58, 31, 10, 11]\n",
        "fig = plt.figure(figsize=(10,6))\n",
        "bax = brokenaxes(ylims=((0, 60), (29900, 29940)), hspace=0.3, despine=False)\n",
        "bax.bar(['0-3', '3-4', '4-5', '5-6', '6+'], x)\n",
        "bax.set_xlabel('delay time (hours)')\n",
        "bax.set_ylabel('count if delay flights')\n",
        "bax.set_title('Barplot of delay flights and delay hours of JetBlue')"
      ],
      "metadata": {
        "colab": {
          "base_uri": "https://localhost:8080/",
          "height": 419
        },
        "id": "ZSFKEOkNDtua",
        "outputId": "82aa704e-f619-4bab-c235-6ef06ff7be9b"
      },
      "execution_count": null,
      "outputs": [
        {
          "output_type": "execute_result",
          "data": {
            "text/plain": [
              "Text(0.5, 1.0, 'Barplot of delay flights and delay hours of JetBlue')"
            ]
          },
          "metadata": {},
          "execution_count": 10
        },
        {
          "output_type": "display_data",
          "data": {
            "text/plain": [
              "<Figure size 720x432 with 3 Axes>"
            ],
            "image/png": "[encoded data removed]"
          },
          "metadata": {
            "needs_background": "light"
          }
        }
      ]
    },
    {
      "cell_type": "code",
      "source": [
        "delay_per_year_JetBlue = JetBlue_2017['airline_delay_flag'].value_counts()\n",
        "compensation_fee_list = np.array([0, 50, 125, 200])\n",
        "compensation_fee = sum(delay_per_year_JetBlue * compensation_fee_list)\n",
        "fee_per_person = compensation_fee / sum(delay_per_year_JetBlue)\n",
        "fee_per_person"
      ],
      "metadata": {
        "colab": {
          "base_uri": "https://localhost:8080/"
        },
        "id": "HZeMFqlvVRq9",
        "outputId": "054044d5-82ea-4821-af38-d9dd259b9ea6"
      },
      "execution_count": null,
      "outputs": [
        {
          "output_type": "execute_result",
          "data": {
            "text/plain": [
              "2.0908243441203886"
            ]
          },
          "metadata": {},
          "execution_count": 22
        }
      ]
    },
    {
      "cell_type": "markdown",
      "source": [
        "### total compensation fee per month"
      ],
      "metadata": {
        "id": "PTF_2YXZnGNk"
      }
    },
    {
      "cell_type": "code",
      "source": [
        "# delay_rate_decrease = 0.1\n",
        "Loadfactor_2017 = 0.847\n",
        "seats_per_airplane = 200\n",
        "crew_salary_one_percent = 600000\n",
        "#loss_per_person = 100\n",
        "loss_per_person = fee_per_person\n",
        "flight_2017 = sum(delay_per_year_JetBlue)\n",
        "\n",
        "y = crew_salary_one_percent / (seats_per_airplane * Loadfactor_2017 * loss_per_person * flight_2017/12)\n",
        "print(y)\n",
        "\n",
        "\n",
        "\n"
      ],
      "metadata": {
        "colab": {
          "base_uri": "https://localhost:8080/"
        },
        "id": "K1L9rWHq2342",
        "outputId": "a79248ba-26e2-46a3-ab7d-e7adba1c017b"
      },
      "execution_count": null,
      "outputs": [
        {
          "output_type": "stream",
          "name": "stdout",
          "text": [
            "0.6767985922589281\n"
          ]
        }
      ]
    },
    {
      "cell_type": "code",
      "source": [
        "seats_per_airplane * Loadfactor_2017 * loss_per_person * flight_2017/12"
      ],
      "metadata": {
        "colab": {
          "base_uri": "https://localhost:8080/"
        },
        "id": "9kP__XPozFCc",
        "outputId": "e441b7db-2434-4f4d-d99a-4b09f704979c"
      },
      "execution_count": null,
      "outputs": [
        {
          "output_type": "execute_result",
          "data": {
            "text/plain": [
              "886526.6666666666"
            ]
          },
          "metadata": {},
          "execution_count": 24
        }
      ]
    },
    {
      "cell_type": "code",
      "source": [
        "seats_per_airplane * Loadfactor_2017 * flight_2017/12"
      ],
      "metadata": {
        "colab": {
          "base_uri": "https://localhost:8080/"
        },
        "id": "55wscHZs2cl1",
        "outputId": "68fa1132-0c38-4886-c740-38474e733d24"
      },
      "execution_count": null,
      "outputs": [
        {
          "output_type": "execute_result",
          "data": {
            "text/plain": [
              "424008.2"
            ]
          },
          "metadata": {},
          "execution_count": 20
        }
      ]
    }
  ]
}